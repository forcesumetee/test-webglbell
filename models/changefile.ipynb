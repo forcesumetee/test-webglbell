{
 "cells": [
  {
   "cell_type": "code",
   "execution_count": 2,
   "metadata": {},
   "outputs": [
    {
     "name": "stdout",
     "output_type": "stream",
     "text": [
      "Requirement already satisfied: trimesh in c:\\users\\force\\appdata\\local\\programs\\python\\python310\\lib\\site-packages (4.6.4)\n",
      "Collecting pygltflib\n",
      "  Downloading pygltflib-1.16.3.tar.gz (42 kB)\n",
      "     ---------------------------------------- 0.0/42.9 kB ? eta -:--:--\n",
      "     ---------------------------------------- 42.9/42.9 kB 2.2 MB/s eta 0:00:00\n",
      "  Preparing metadata (setup.py): started\n",
      "  Preparing metadata (setup.py): finished with status 'done'\n",
      "Requirement already satisfied: numpy in c:\\users\\force\\appdata\\local\\programs\\python\\python310\\lib\\site-packages (2.0.2)\n",
      "Collecting dataclasses-json>=0.0.25\n",
      "  Downloading dataclasses_json-0.6.7-py3-none-any.whl (28 kB)\n",
      "Collecting deprecated\n",
      "  Downloading Deprecated-1.2.18-py2.py3-none-any.whl (10.0 kB)\n",
      "Collecting marshmallow<4.0.0,>=3.18.0\n",
      "  Downloading marshmallow-3.26.1-py3-none-any.whl (50 kB)\n",
      "     ---------------------------------------- 0.0/50.9 kB ? eta -:--:--\n",
      "     ---------------------------------------- 50.9/50.9 kB ? eta 0:00:00\n",
      "Collecting typing-inspect<1,>=0.4.0\n",
      "  Downloading typing_inspect-0.9.0-py3-none-any.whl (8.8 kB)\n",
      "Requirement already satisfied: wrapt<2,>=1.10 in c:\\users\\force\\appdata\\local\\programs\\python\\python310\\lib\\site-packages (from deprecated->pygltflib) (1.17.0)\n",
      "Requirement already satisfied: packaging>=17.0 in c:\\users\\force\\appdata\\roaming\\python\\python310\\site-packages (from marshmallow<4.0.0,>=3.18.0->dataclasses-json>=0.0.25->pygltflib) (24.2)\n",
      "Requirement already satisfied: typing-extensions>=3.7.4 in c:\\users\\force\\appdata\\roaming\\python\\python310\\site-packages (from typing-inspect<1,>=0.4.0->dataclasses-json>=0.0.25->pygltflib) (4.12.2)\n",
      "Collecting mypy-extensions>=0.3.0\n",
      "  Downloading mypy_extensions-1.0.0-py3-none-any.whl (4.7 kB)\n",
      "Building wheels for collected packages: pygltflib\n",
      "  Building wheel for pygltflib (setup.py): started\n",
      "  Building wheel for pygltflib (setup.py): finished with status 'done'\n",
      "  Created wheel for pygltflib: filename=pygltflib-1.16.3-py3-none-any.whl size=27524 sha256=f1241bd4cbe69ec6649a623db804d08d46ba7876cc4b3dd170cd6302a7d4b893\n",
      "  Stored in directory: c:\\users\\force\\appdata\\local\\pip\\cache\\wheels\\de\\4a\\cc\\0d166b319ddda5007d0dfa6087346a30c4713b0fdaeaeff304\n",
      "Successfully built pygltflib\n",
      "Installing collected packages: mypy-extensions, marshmallow, deprecated, typing-inspect, dataclasses-json, pygltflib\n",
      "Successfully installed dataclasses-json-0.6.7 deprecated-1.2.18 marshmallow-3.26.1 mypy-extensions-1.0.0 pygltflib-1.16.3 typing-inspect-0.9.0\n"
     ]
    },
    {
     "name": "stderr",
     "output_type": "stream",
     "text": [
      "WARNING: Ignoring invalid distribution -rotobuf (c:\\users\\force\\appdata\\local\\programs\\python\\python310\\lib\\site-packages)\n",
      "WARNING: Ignoring invalid distribution -rotobuf (c:\\users\\force\\appdata\\local\\programs\\python\\python310\\lib\\site-packages)\n",
      "WARNING: Ignoring invalid distribution -rotobuf (c:\\users\\force\\appdata\\local\\programs\\python\\python310\\lib\\site-packages)\n",
      "WARNING: Ignoring invalid distribution -rotobuf (c:\\users\\force\\appdata\\local\\programs\\python\\python310\\lib\\site-packages)\n",
      "WARNING: Ignoring invalid distribution -rotobuf (c:\\users\\force\\appdata\\local\\programs\\python\\python310\\lib\\site-packages)\n",
      "WARNING: Ignoring invalid distribution -rotobuf (c:\\users\\force\\appdata\\local\\programs\\python\\python310\\lib\\site-packages)\n",
      "WARNING: Ignoring invalid distribution -rotobuf (c:\\users\\force\\appdata\\local\\programs\\python\\python310\\lib\\site-packages)\n",
      "WARNING: Ignoring invalid distribution -rotobuf (c:\\users\\force\\appdata\\local\\programs\\python\\python310\\lib\\site-packages)\n",
      "WARNING: Ignoring invalid distribution -rotobuf (c:\\users\\force\\appdata\\local\\programs\\python\\python310\\lib\\site-packages)\n",
      "WARNING: Ignoring invalid distribution -rotobuf (c:\\users\\force\\appdata\\local\\programs\\python\\python310\\lib\\site-packages)\n",
      "WARNING: Ignoring invalid distribution -rotobuf (c:\\users\\force\\appdata\\local\\programs\\python\\python310\\lib\\site-packages)\n",
      "WARNING: Ignoring invalid distribution -rotobuf (c:\\users\\force\\appdata\\local\\programs\\python\\python310\\lib\\site-packages)\n",
      "\n",
      "[notice] A new release of pip is available: 23.0.1 -> 25.0.1\n",
      "[notice] To update, run: python.exe -m pip install --upgrade pip\n"
     ]
    }
   ],
   "source": [
    "!pip3 install trimesh pygltflib numpy"
   ]
  },
  {
   "cell_type": "code",
   "execution_count": 4,
   "metadata": {},
   "outputs": [
    {
     "name": "stdout",
     "output_type": "stream",
     "text": [
      "Conversion complete: human_G_exchange.ply\n"
     ]
    }
   ],
   "source": [
    "import trimesh\n",
    "from pygltflib import GLTF2\n",
    "import sys\n",
    "\n",
    "def convert_glb_to_ply(input_glb, output_ply):\n",
    "    # Load GLB file\n",
    "    gltf = GLTF2().load(input_glb)\n",
    "    \n",
    "    # Extract mesh data\n",
    "    scene = trimesh.load(input_glb, force='mesh')\n",
    "\n",
    "    # Save as PLY\n",
    "    scene.export(output_ply)\n",
    "    print(f\"Conversion complete: {output_ply}\")\n",
    "\n",
    "# Example usage\n",
    "input_glb_path = \"human_G.glb\"  # เปลี่ยนเป็นชื่อไฟล์ของคุณ\n",
    "output_ply_path = \"human_G_exchange.ply\"  # เปลี่ยนเป็นชื่อไฟล์ที่ต้องการ\n",
    "\n",
    "convert_glb_to_ply(input_glb_path, output_ply_path)\n"
   ]
  }
 ],
 "metadata": {
  "kernelspec": {
   "display_name": "Python 3",
   "language": "python",
   "name": "python3"
  },
  "language_info": {
   "codemirror_mode": {
    "name": "ipython",
    "version": 3
   },
   "file_extension": ".py",
   "mimetype": "text/x-python",
   "name": "python",
   "nbconvert_exporter": "python",
   "pygments_lexer": "ipython3",
   "version": "3.10.11"
  }
 },
 "nbformat": 4,
 "nbformat_minor": 2
}
